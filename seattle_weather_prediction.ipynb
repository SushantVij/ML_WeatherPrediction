{
  "cells": [
    {
      "cell_type": "markdown",
      "metadata": {
        "id": "view-in-github",
        "colab_type": "text"
      },
      "source": [
        "<a href=\"https://colab.research.google.com/github/SushantVij/ML_WeatherPrediction/blob/main/seattle_weather_prediction.ipynb\" target=\"_parent\"><img src=\"https://colab.research.google.com/assets/colab-badge.svg\" alt=\"Open In Colab\"/></a>"
      ]
    },
    {
      "cell_type": "markdown",
      "metadata": {
        "id": "kC1zbD2tNUtC"
      },
      "source": [
        "WEATHER PREDICTION"
      ]
    },
    {
      "cell_type": "markdown",
      "source": [
        "Install and Import Dependencies"
      ],
      "metadata": {
        "id": "6F-Lt4gvm7eL"
      }
    },
    {
      "cell_type": "code",
      "execution_count": null,
      "metadata": {
        "id": "1YQDmDk9N_YQ"
      },
      "outputs": [],
      "source": [
        "!pip install stats"
      ]
    },
    {
      "cell_type": "markdown",
      "source": [
        "Read in Data and Process Data"
      ],
      "metadata": {
        "id": "oCvQ1CwSm-Br"
      }
    },
    {
      "cell_type": "code",
      "execution_count": null,
      "metadata": {
        "id": "0yAT7IbrNPY0"
      },
      "outputs": [],
      "source": [
        "import matplotlib.pyplot as plt\n",
        "import seaborn as sns\n",
        "import scipy\n",
        "import re\n",
        "import missingno as mso\n",
        "import stats\n",
        "from scipy import stats\n",
        "import pandas as pd\n",
        "from scipy.stats import ttest_ind\n",
        "from scipy.stats import pearsonr\n",
        "from sklearn.preprocessing import StandardScaler, LabelEncoder\n",
        "from sklearn.model_selection import train_test_split\n",
        "from sklearn.neighbors import KNeighborsClassifier\n",
        "from sklearn.svm import SVC\n",
        "from sklearn.ensemble import GradientBoostingClassifier\n",
        "from xgboost import XGBClassifier\n",
        "#from sklearn.metrics import accuracy_score, confusion_matrix, classification_report"
      ]
    },
    {
      "cell_type": "code",
      "source": [
        "from google.colab import files\n",
        "from IPython.display import Image"
      ],
      "metadata": {
        "id": "GutPpfY5Zyx_"
      },
      "execution_count": null,
      "outputs": []
    },
    {
      "cell_type": "code",
      "source": [
        "uploaded=files.upload()"
      ],
      "metadata": {
        "id": "DeRHwjAmZ2PC"
      },
      "execution_count": null,
      "outputs": []
    },
    {
      "cell_type": "code",
      "source": [
        "data=pd.read_csv(\"/content/seattle-weather.csv\")\n",
        "data.head()"
      ],
      "metadata": {
        "id": "qrpWWWBZZ5on"
      },
      "execution_count": null,
      "outputs": []
    },
    {
      "cell_type": "code",
      "source": [
        "data.shape"
      ],
      "metadata": {
        "id": "JbICFh0pbrPc"
      },
      "execution_count": null,
      "outputs": []
    },
    {
      "cell_type": "code",
      "source": [
        "import warnings\n",
        "warnings.filterwarnings('ignore')  # Function to ignore all warnings by setting 'ignore' as a parameter\n",
        "\n",
        "# Use sns.countplot() to visualize the weather data\n",
        "sns.countplot(x=\"weather\", data=data, palette='hls')\n",
        "plt.show()  # Don't forget to show the plot using plt.show()\n"
      ],
      "metadata": {
        "id": "HOnlGJR7h2Az"
      },
      "execution_count": null,
      "outputs": []
    },
    {
      "cell_type": "code",
      "source": [
        "countrain=len(data[data.weather=='rain'])\n",
        "print(countrain)\n",
        "percentage=(countrain/len(data.weather))*100\n",
        "print(percentage)"
      ],
      "metadata": {
        "id": "lByTwUdGcfXJ"
      },
      "execution_count": null,
      "outputs": []
    },
    {
      "cell_type": "code",
      "source": [
        "countsun=len(data[data.weather=='sun'])\n",
        "print(countsun)\n",
        "percentage=(countsun/len(data.weather))*100\n",
        "print(percentage)"
      ],
      "metadata": {
        "id": "o1VtiQusctWH"
      },
      "execution_count": null,
      "outputs": []
    },
    {
      "cell_type": "code",
      "source": [
        "countdrizzle=len(data[data.weather=='drizzle'])\n",
        "print(countdrizzle)\n",
        "percentage=(countdrizzle/len(data.weather))*100\n",
        "print(percentage)"
      ],
      "metadata": {
        "id": "SvvdF6nKc5at"
      },
      "execution_count": null,
      "outputs": []
    },
    {
      "cell_type": "code",
      "source": [
        "countsnow=len(data[data.weather=='snow'])\n",
        "print(countsnow)\n",
        "percentage=(countsnow/len(data.weather))*100\n",
        "print(percentage)"
      ],
      "metadata": {
        "id": "7SEPLmMudBpO"
      },
      "execution_count": null,
      "outputs": []
    },
    {
      "cell_type": "code",
      "source": [
        "countfog=len(data[data.weather=='fog'])\n",
        "print(countfog)\n",
        "percentage=(countfog/len(data.weather))*100\n",
        "print(percentage)"
      ],
      "metadata": {
        "id": "wRywEAN6dOCY"
      },
      "execution_count": null,
      "outputs": []
    },
    {
      "cell_type": "code",
      "source": [
        "data[['precipitation','temp_max','temp_min','wind']].describe()\n",
        "#view some basic statistical details like percentile, mean, std etc. of a data frame or a series of numeric values."
      ],
      "metadata": {
        "id": "CadAOm7LdnqM"
      },
      "execution_count": null,
      "outputs": []
    },
    {
      "cell_type": "code",
      "source": [
        "sns.set(style='darkgrid')#seems to be changing the background color of the plot.\n",
        "fig,axs=plt.subplots(2,2,figsize=(10,8))\n",
        "#kde:bool(kerner density esitmate)polt is am ethod for visulization the distribuition of dataset,analogous to histogram\n",
        "#If True, compute a kernel density estimate to smooth the distribution and show on the plot as (one or more) line(s).\n",
        "#Only relevant with univariate data(simplest form of data for statistical analysis).\n",
        "sns.histplot(data=data,x='precipitation',kde=True,ax=axs[0,0],color='green')#+skewed\n",
        "sns.histplot(data=data,x='temp_max',kde=True,ax=axs[0,1],color='red')#-skewed+outliers\n",
        "sns.histplot(data=data,x='temp_min',kde=True,ax=axs[1,0],color='blue')#-skewed+outliers\n",
        "sns.histplot(data=data,x='wind',kde=True,ax=axs[1,1],color='orange')#+skewed"
      ],
      "metadata": {
        "id": "r350sTIyN77s"
      },
      "execution_count": null,
      "outputs": []
    },
    {
      "cell_type": "code",
      "source": [
        "print(\"skewness: {:.3f}\".format(data['precipitation'].skew()))\n",
        "print(\"kurtosis: {:.3f}\".format(data['precipitation'].kurt()))"
      ],
      "metadata": {
        "id": "mgbW-_1K-Nsc"
      },
      "execution_count": null,
      "outputs": []
    },
    {
      "cell_type": "code",
      "source": [
        "print(\"skewness: {:.3f}\".format(data['temp_max'].skew()))\n",
        "print(\"kurtosis: {:.3f}\".format(data['temp_max'].kurt()))"
      ],
      "metadata": {
        "id": "6mJS-kCD-exm"
      },
      "execution_count": null,
      "outputs": []
    },
    {
      "cell_type": "code",
      "source": [
        "print(\"skewness: {:.3f}\".format(data['temp_min'].skew()))\n",
        "print(\"kurtosis: {:.3f}\".format(data['temp_min'].kurt()))"
      ],
      "metadata": {
        "id": "KC-2xmbF-is6"
      },
      "execution_count": null,
      "outputs": []
    },
    {
      "cell_type": "code",
      "source": [
        "print(\"skewness: {:.3f}\".format(data['wind'].skew()))\n",
        "print(\"kurtosis: {:.3f}\".format(data['wind'].kurt()))"
      ],
      "metadata": {
        "id": "8RNhqABU-jFV"
      },
      "execution_count": null,
      "outputs": []
    },
    {
      "cell_type": "code",
      "source": [
        "#to understand skewness of data\n",
        "# A violin plot is a cross between a box plot and a kernel density plot that displays data peaks.\n",
        "#It’s used to show how numerical data is distributed.\n",
        "sns.set(style='darkgrid')\n",
        "fig,axs=plt.subplots(2,2,figsize=(10,8))\n",
        "sns.violinplot(data=data,x='precipitation',kde=True,ax=axs[0,0],color='green')\n",
        "sns.violinplot(data=data,x='temp_max',kde=True,ax=axs[0,1],color='red')\n",
        "sns.violinplot(data=data,x='temp_min',kde=True,ax=axs[1,0],color='blue')\n",
        "sns.violinplot(data=data,x='wind',kde=True,ax=axs[1,1],color='orange')"
      ],
      "metadata": {
        "id": "qvZX17wCPMo4"
      },
      "execution_count": null,
      "outputs": []
    },
    {
      "cell_type": "code",
      "source": [
        "# Boxplot is also used to detect outliers in the data set. It captures the summary of the data efficiently with a simple box and whiskers\n",
        "# and allows us to compare easily across groups\n",
        "plt.figure(figsize=(12, 6))\n",
        "sns.boxplot(x='weather', y='precipitation', data=data, palette='hls')\n",
        "plt.show()  # Don't forget to show the plot using plt.show()\n"
      ],
      "metadata": {
        "id": "KAEE8c6DP3c1"
      },
      "execution_count": null,
      "outputs": []
    },
    {
      "cell_type": "code",
      "source": [
        "plt.figure(figsize=(12, 6))\n",
        "sns.boxplot(x='weather', y='temp_max', data=data, palette='inferno')\n",
        "plt.show()\n"
      ],
      "metadata": {
        "id": "XgtekWniRIBZ"
      },
      "execution_count": null,
      "outputs": []
    },
    {
      "cell_type": "code",
      "source": [
        "plt.figure(figsize=(12, 6))\n",
        "sns.boxplot(x='weather', y='wind', data=data, palette='hls')\n",
        "plt.show()\n"
      ],
      "metadata": {
        "id": "F2D2FyATReml"
      },
      "execution_count": null,
      "outputs": []
    },
    {
      "cell_type": "code",
      "source": [
        "plt.figure(figsize=(12, 6))\n",
        "sns.boxplot(x='weather', y='temp_min', data=data, palette='inferno')\n",
        "plt.show()\n"
      ],
      "metadata": {
        "id": "oRJ-kWzIRlyY"
      },
      "execution_count": null,
      "outputs": []
    },
    {
      "cell_type": "code",
      "source": [
        "#Heatmap is a visualization that displays data in a color encoded matrix.\n",
        "#The intensity of color varies based on the value of the attribute represented in the visualization.\n",
        "#+ve corelation b/w min and max temp\n",
        "#+ve corelation b/w precipitation b/w wind\n",
        "plt.figure(figsize=(12,6))\n",
        "sns.heatmap(data.corr(),annot=True,cmap='coolwarm')"
      ],
      "metadata": {
        "id": "G94-_qSURuc5"
      },
      "execution_count": null,
      "outputs": []
    },
    {
      "cell_type": "markdown",
      "source": [
        "Preprocessing and Cleaning"
      ],
      "metadata": {
        "id": "t5Z1n4VYqng_"
      }
    },
    {
      "cell_type": "code",
      "source": [
        "data.isna().sum()"
      ],
      "metadata": {
        "id": "aEWBF-EYTIXx"
      },
      "execution_count": null,
      "outputs": []
    },
    {
      "cell_type": "code",
      "source": [
        "plt.figure(figsize=(12,6))\n",
        "axz=plt.subplot(1,2,2)\n",
        "#function takes three arguments that describes the layout of the figure.\n",
        "#The layout is organized in rows and columns, which are represented by the first and second argument.\n",
        "#The third argument represents the index of the current plot.\n",
        "#the figure has 1 row, 2 columns, and this plot is the second plot.\n",
        "#Missingno library offers a very nice way to visualize the distribution of NaN values.\n",
        "# Missingno is a Python library and compatible with Pandas.\n",
        "#This bar chart gives you an idea about how many missing values are there in each column.\n",
        "mso.bar(data.drop(['date'],axis=1),ax=axz,fontsize=12)"
      ],
      "metadata": {
        "id": "5ftujxr_TmSb"
      },
      "execution_count": null,
      "outputs": []
    },
    {
      "cell_type": "code",
      "source": [
        "data.dtypes"
      ],
      "metadata": {
        "id": "2OCdQuhp4_cw"
      },
      "execution_count": null,
      "outputs": []
    },
    {
      "cell_type": "code",
      "source": [
        "data=data.drop(['date'],axis=1)"
      ],
      "metadata": {
        "id": "LX62kV0mUjU_"
      },
      "execution_count": null,
      "outputs": []
    },
    {
      "cell_type": "markdown",
      "source": [
        "Train Model"
      ],
      "metadata": {
        "id": "4NzHNFk9noJF"
      }
    },
    {
      "cell_type": "code",
      "source": [
        "#dataframe.quantile() function return values at the given quantile over requested axis, a numpy.percentile.\n",
        "Q1=data.quantile(0.25)\n",
        "Q3=data.quantile(0.75)\n",
        "IQR=Q3-Q1\n",
        "data=data[~((data<(Q1-1.5*IQR))|(data>(Q3+1.5*IQR))).any(axis=1)]\n"
      ],
      "metadata": {
        "id": "ZMyKE-9_ZdKd"
      },
      "execution_count": null,
      "outputs": []
    },
    {
      "cell_type": "code",
      "source": [
        "import numpy as np\n",
        "#function is used to determine the positive square-root of an array, element-wise.\n",
        "data.precipitation=np.sqrt(data.precipitation)\n",
        "data.wind=np.sqrt(data.wind)"
      ],
      "metadata": {
        "id": "X_uMmgOqbSPL"
      },
      "execution_count": null,
      "outputs": []
    },
    {
      "cell_type": "code",
      "source": [
        "sns.set(style='darkgrid')\n",
        "fig,axs=plt.subplots(2,2,figsize=(10,8))\n",
        "sns.histplot(data=data,x='precipitation',kde=True,ax=axs[0,0],color='green')\n",
        "sns.histplot(data=data,x='temp_max',kde=True,ax=axs[0,1],color='red')\n",
        "sns.histplot(data=data,x='temp_min',kde=True,ax=axs[1,0],color='blue')\n",
        "sns.histplot(data=data,x='wind',kde=True,ax=axs[1,1],color='orange')"
      ],
      "metadata": {
        "id": "QlcaGy0UcA9i"
      },
      "execution_count": null,
      "outputs": []
    },
    {
      "cell_type": "code",
      "source": [
        "data.head()"
      ],
      "metadata": {
        "id": "fDnakpxQdRLV"
      },
      "execution_count": null,
      "outputs": []
    },
    {
      "cell_type": "code",
      "source": [
        "lc=LabelEncoder()\n",
        "data['weather']=lc.fit_transform(data['weather'])# a fit_transform() to the training data. The model we created, in this case,\n",
        "#will discover the mean and variance of the characteristics in the training set."
      ],
      "metadata": {
        "id": "B6ZtbnMwdVPn"
      },
      "execution_count": null,
      "outputs": []
    },
    {
      "cell_type": "code",
      "source": [
        "x=((data.loc[:,data.columns!='weather']).astype(int)).values[:,0:]\n",
        "y=data['weather'].values\n"
      ],
      "metadata": {
        "id": "qgFZdN1kdzWL"
      },
      "execution_count": null,
      "outputs": []
    },
    {
      "cell_type": "code",
      "source": [
        "data.weather.unique()"
      ],
      "metadata": {
        "id": "PHtN69mbeFQu"
      },
      "execution_count": null,
      "outputs": []
    },
    {
      "cell_type": "markdown",
      "source": [
        "ACCURACY"
      ],
      "metadata": {
        "id": "YXSpwFcQnVTP"
      }
    },
    {
      "cell_type": "code",
      "source": [
        "x_train,x_test,y_train,y_test=train_test_split(x,y,test_size=0.1,random_state=2)"
      ],
      "metadata": {
        "id": "k8QnJIlMeKWB"
      },
      "execution_count": null,
      "outputs": []
    },
    {
      "cell_type": "code",
      "source": [
        "\n",
        "print('There are {} samples in the training set and {} samples in the test set'.format(\n",
        "x_train.shape[0], x_test.shape[0]))\n",
        "print()\n",
        "#For many machine learning algorithms, it is important to scale the data. Let's do that now using sklearn"
      ],
      "metadata": {
        "id": "Ev4FeppNq-oH"
      },
      "execution_count": null,
      "outputs": []
    },
    {
      "cell_type": "code",
      "source": [
        "from sklearn.preprocessing import StandardScaler\n",
        "sc = StandardScaler()\n",
        "sc.fit(x_train)\n",
        "X_train_std = sc.transform(x_train)\n",
        "X_test_std = sc.transform(x_test)\n",
        "\n",
        "\n"
      ],
      "metadata": {
        "id": "WzVJoiCsxF1E"
      },
      "execution_count": null,
      "outputs": []
    },
    {
      "cell_type": "code",
      "source": [
        "knn=KNeighborsClassifier()\n",
        "knn.fit(x_train,y_train)\n",
        "print('KNN Aaccuracy:{:.2f}%'.format(knn.score(x_test,y_test)*100))\n",
        "print('The accuracy of the knn classifier is {:.2f} out of 1 on training data'.format(knn.score(X_train_std, y_train)))\n",
        "print('The accuracy of the knn classifier is {:.2f} out of 1 on test data'.format(knn.score(X_test_std, y_test)))"
      ],
      "metadata": {
        "id": "ZtTASgcAefDR"
      },
      "execution_count": null,
      "outputs": []
    },
    {
      "cell_type": "code",
      "source": [
        "svm=SVC()\n",
        "svm.fit(x_train,y_train)\n",
        "print('SVM Aaccuracy:{:.2f}%'.format(svm.score(x_test,y_test)*100))\n",
        "print('The accuracy of the svm classifier on training data is {:.2f} out of 1'.format(svm.score(X_train_std, y_train)))\n",
        "print('The accuracy of the svm classifier on test data is {:.2f} out of 1'.format(svm.score(X_test_std, y_test)))"
      ],
      "metadata": {
        "id": "OUwQi0DDefQ1"
      },
      "execution_count": null,
      "outputs": []
    },
    {
      "cell_type": "code",
      "source": [
        "gbc=GradientBoostingClassifier(subsample=0.5,n_estimators=450,max_depth=5,max_leaf_nodes=25)\n",
        "gbc.fit(x_train,y_train)\n",
        "print('GBC Aaccuracy:{:.2f}%'.format(gbc.score(x_test,y_test)*100))\n"
      ],
      "metadata": {
        "id": "GOeYi9kpefdC"
      },
      "execution_count": null,
      "outputs": []
    },
    {
      "cell_type": "code",
      "source": [
        "import xgboost as xgb\n",
        "import warnings\n",
        "warnings.filterwarnings('ignore')\n",
        "xgb=XGBClassifier()\n",
        "\n",
        "xgb_clf = xgb.fit(X_train_std, y_train)\n",
        "xgb.fit(x_train,y_train)\n",
        "print('XGB Aaccuracy:{:.2f}%'.format(xgb.score(x_test,y_test)*100))\n",
        "print('The accuracy of the xgb classifier is {:.2f} out of 1 on training data'.format(xgb_clf.score(X_train_std, y_train)))\n",
        "print('The accuracy of the xgb classifier is {:.2f} out of 1 on test data'.format(xgb_clf.score(X_test_std, y_test)))"
      ],
      "metadata": {
        "id": "G2wOM5RPhXhN"
      },
      "execution_count": null,
      "outputs": []
    },
    {
      "cell_type": "markdown",
      "source": [
        "Forecast Away"
      ],
      "metadata": {
        "id": "30L7tXP4nRWO"
      }
    },
    {
      "cell_type": "code",
      "source": [
        "import numpy as np\n",
        "\n",
        "input = np.array([[0, 25, 19, 4.56774]])\n",
        "ot = xgb.predict(input)\n",
        "print('The weather is: ')\n",
        "if ot == 0:\n",
        "    print('Drizzle')\n",
        "elif ot == 1:\n",
        "    print('Fog')\n",
        "elif ot == 2:\n",
        "    print('Rain')\n",
        "elif ot == 3:\n",
        "    print('Snow')\n",
        "else:\n",
        "    print('Sun')\n"
      ],
      "metadata": {
        "id": "mNusU6ZzjPYh"
      },
      "execution_count": null,
      "outputs": []
    }
  ],
  "metadata": {
    "colab": {
      "provenance": [],
      "private_outputs": true,
      "include_colab_link": true
    },
    "kernelspec": {
      "display_name": "Python 3",
      "name": "python3"
    },
    "language_info": {
      "name": "python"
    },
    "accelerator": "GPU"
  },
  "nbformat": 4,
  "nbformat_minor": 0
}